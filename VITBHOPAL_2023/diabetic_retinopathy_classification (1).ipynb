{
  "cells": [
    {
      "cell_type": "markdown",
      "id": "39808536",
      "metadata": {
        "id": "39808536"
      },
      "source": [
        "# Diabetic Retinopathy Classification with Comprehensive Evaluation\n",
        "Complete Google Colab Implementation"
      ]
    },
    {
      "cell_type": "markdown",
      "id": "7632e379",
      "metadata": {
        "id": "7632e379"
      },
      "source": [
        "## Step 1: Import Kaggle Dataset and Setup"
      ]
    },
    {
      "cell_type": "code",
      "execution_count": 1,
      "id": "bc6cbcfb",
      "metadata": {
        "colab": {
          "base_uri": "https://localhost:8080/"
        },
        "id": "bc6cbcfb",
        "outputId": "29c812b8-9229-42a4-cb98-2c42fc9cc2a6"
      },
      "outputs": [
        {
          "output_type": "stream",
          "name": "stdout",
          "text": [
            "Downloading from https://www.kaggle.com/api/v1/datasets/download/sovitrath/diabetic-retinopathy-224x224-gaussian-filtered?dataset_version_number=2...\n"
          ]
        },
        {
          "output_type": "stream",
          "name": "stderr",
          "text": [
            "100%|██████████| 427M/427M [00:10<00:00, 41.3MB/s]"
          ]
        },
        {
          "output_type": "stream",
          "name": "stdout",
          "text": [
            "Extracting files...\n"
          ]
        },
        {
          "output_type": "stream",
          "name": "stderr",
          "text": [
            "\n"
          ]
        },
        {
          "output_type": "stream",
          "name": "stdout",
          "text": [
            "Data source import complete.\n"
          ]
        }
      ],
      "source": [
        "# IMPORTANT: Run this cell first to import your Kaggle data\n",
        "import kagglehub\n",
        "sovitrath_diabetic_retinopathy_224x224_gaussian_filtered_path = kagglehub.dataset_download('sovitrath/diabetic-retinopathy-224x224-gaussian-filtered')\n",
        "print('Data source import complete.')"
      ]
    },
    {
      "cell_type": "markdown",
      "id": "f6f35625",
      "metadata": {
        "id": "f6f35625"
      },
      "source": [
        "## Step 2: Import All Necessary Libraries"
      ]
    },
    {
      "cell_type": "code",
      "execution_count": 2,
      "id": "e64ebac4",
      "metadata": {
        "colab": {
          "base_uri": "https://localhost:8080/"
        },
        "id": "e64ebac4",
        "outputId": "cf6ebb28-ba95-423c-b31c-bc0e0d2f92fd"
      },
      "outputs": [
        {
          "output_type": "stream",
          "name": "stdout",
          "text": [
            "All libraries imported successfully!\n"
          ]
        }
      ],
      "source": [
        "# Core libraries\n",
        "import numpy as np\n",
        "import pandas as pd\n",
        "import tensorflow as tf\n",
        "from tensorflow.keras.preprocessing.image import ImageDataGenerator\n",
        "from tensorflow.keras.applications import EfficientNetB0\n",
        "from tensorflow.keras.layers import Dense, GlobalAveragePooling2D, Dropout\n",
        "from tensorflow.keras.models import Sequential\n",
        "from tensorflow.keras.optimizers import Adam\n",
        "from tensorflow.keras.callbacks import LearningRateScheduler, EarlyStopping, ReduceLROnPlateau\n",
        "import matplotlib.pyplot as plt\n",
        "import os\n",
        "\n",
        "# Evaluation libraries\n",
        "from sklearn.metrics import classification_report, confusion_matrix, cohen_kappa_score\n",
        "from sklearn.metrics import accuracy_score, precision_recall_fscore_support\n",
        "import seaborn as sns\n",
        "\n",
        "print(\"All libraries imported successfully!\")"
      ]
    },
    {
      "cell_type": "markdown",
      "id": "23ac8829",
      "metadata": {
        "id": "23ac8829"
      },
      "source": [
        "## Step 3: Explore Dataset Structure"
      ]
    },
    {
      "cell_type": "code",
      "execution_count": 3,
      "id": "4bade9b6",
      "metadata": {
        "colab": {
          "base_uri": "https://localhost:8080/"
        },
        "id": "4bade9b6",
        "outputId": "ddebc12f-6ce2-4351-a0d0-28aca39cf4b5"
      },
      "outputs": [
        {
          "output_type": "stream",
          "name": "stdout",
          "text": [
            "Dataset structure:\n",
            "==================================================\n",
            "2/\n",
            "  train.csv\n",
            "  gaussian_filtered_images/\n",
            "    gaussian_filtered_images/\n",
            "      export.pkl\n",
            "      No_DR/\n",
            "        c3789c1dab96.png\n",
            "        4e4a6224a04e.png\n",
            "        e9678824215d.png\n",
            "        1ec95179cdfe.png\n",
            "        5511f114e7ee.png\n",
            "        ... and 1800 more files\n",
            "      Proliferate_DR/\n",
            "        4bd941611343.png\n",
            "        95e732e043a1.png\n",
            "        1c4f3aa4df06.png\n",
            "        576e189d23d4.png\n",
            "        02dda30d3acf.png\n",
            "        ... and 290 more files\n",
            "      Severe/\n",
            "        f64214bed40e.png\n",
            "        3b018e8b7303.png\n",
            "        91cf56d3d1af.png\n",
            "        0c917c372572.png\n",
            "        b019a49787c1.png\n",
            "        ... and 188 more files\n",
            "      Moderate/\n",
            "        842d697884f6.png\n",
            "        20404ec7b518.png\n",
            "        000c1434d8d7.png\n",
            "        20c883d3bd38.png\n",
            "        b8ac328009e0.png\n",
            "        ... and 994 more files\n",
            "      Mild/\n",
            "        07929d32b5b3.png\n",
            "        2ecbc2e3f239.png\n",
            "        ca6842bfcbc9.png\n",
            "        59e5212f7139.png\n",
            "        d3de0d313d61.png\n",
            "        ... and 365 more files\n"
          ]
        }
      ],
      "source": [
        "# Check available files and structure\n",
        "print(\"Dataset structure:\")\n",
        "print(\"=\"*50)\n",
        "for root, dirs, files in os.walk(sovitrath_diabetic_retinopathy_224x224_gaussian_filtered_path):\n",
        "    level = root.replace(sovitrath_diabetic_retinopathy_224x224_gaussian_filtered_path, '').count(os.sep)\n",
        "    indent = ' ' * 2 * level\n",
        "    print(f'{indent}{os.path.basename(root)}/')\n",
        "    subindent = ' ' * 2 * (level + 1)\n",
        "    for file in files[:5]:  # Show first 5 files\n",
        "        print(f'{subindent}{file}')\n",
        "    if len(files) > 5:\n",
        "        print(f'{subindent}... and {len(files) - 5} more files')"
      ]
    },
    {
      "cell_type": "markdown",
      "id": "a4a82bbc",
      "metadata": {
        "id": "a4a82bbc"
      },
      "source": [
        "## Step 4: Data Preprocessing and Augmentation"
      ]
    },
    {
      "cell_type": "code",
      "execution_count": 4,
      "id": "7e478dce",
      "metadata": {
        "colab": {
          "base_uri": "https://localhost:8080/"
        },
        "id": "7e478dce",
        "outputId": "45579e0c-efa9-4c91-f8b8-ca685d382195"
      },
      "outputs": [
        {
          "output_type": "stream",
          "name": "stdout",
          "text": [
            "Data path: /root/.cache/kagglehub/datasets/sovitrath/diabetic-retinopathy-224x224-gaussian-filtered/versions/2/gaussian_filtered_images/gaussian_filtered_images\n",
            "Path exists: True\n"
          ]
        }
      ],
      "source": [
        "# Data preprocessing with proper augmentation for training\n",
        "train_datagen = ImageDataGenerator(\n",
        "    rescale=1./255,\n",
        "    rotation_range=15,\n",
        "    width_shift_range=0.1,\n",
        "    height_shift_range=0.1,\n",
        "    shear_range=0.1,\n",
        "    zoom_range=0.1,\n",
        "    horizontal_flip=True,\n",
        "    fill_mode='nearest',\n",
        "    validation_split=0.2\n",
        ")\n",
        "\n",
        "# Validation data should only be rescaled, no augmentation\n",
        "valid_datagen = ImageDataGenerator(\n",
        "    rescale=1./255,\n",
        "    validation_split=0.2\n",
        ")\n",
        "\n",
        "# Update the data path to the correct location\n",
        "data_path = os.path.join(sovitrath_diabetic_retinopathy_224x224_gaussian_filtered_path, 'gaussian_filtered_images', 'gaussian_filtered_images')\n",
        "\n",
        "print(f\"Data path: {data_path}\")\n",
        "print(f\"Path exists: {os.path.exists(data_path)}\")"
      ]
    },
    {
      "cell_type": "markdown",
      "id": "78a1480c",
      "metadata": {
        "id": "78a1480c"
      },
      "source": [
        "## Step 5: Create Data Generators"
      ]
    },
    {
      "cell_type": "code",
      "execution_count": 5,
      "id": "b5348405",
      "metadata": {
        "colab": {
          "base_uri": "https://localhost:8080/"
        },
        "id": "b5348405",
        "outputId": "01702a3c-2817-48ab-cb6a-5afdd62c8439"
      },
      "outputs": [
        {
          "output_type": "stream",
          "name": "stdout",
          "text": [
            "Found 2931 images belonging to 5 classes.\n",
            "Found 731 images belonging to 5 classes.\n",
            "Data generators created successfully!\n",
            "==================================================\n",
            "Training samples: 2931\n",
            "Validation samples: 731\n",
            "Number of classes: 5\n",
            "Class indices: {'Mild': 0, 'Moderate': 1, 'No_DR': 2, 'Proliferate_DR': 3, 'Severe': 4}\n"
          ]
        }
      ],
      "source": [
        "# Create data generators\n",
        "train_data = train_datagen.flow_from_directory(\n",
        "    data_path,\n",
        "    target_size=(224, 224),\n",
        "    batch_size=32,\n",
        "    class_mode='categorical',\n",
        "    subset='training',\n",
        "    shuffle=True\n",
        ")\n",
        "\n",
        "valid_data = valid_datagen.flow_from_directory(\n",
        "    data_path,\n",
        "    target_size=(224, 224),\n",
        "    batch_size=32,\n",
        "    class_mode='categorical',\n",
        "    subset='validation',\n",
        "    shuffle=False\n",
        ")\n",
        "\n",
        "print(\"Data generators created successfully!\")\n",
        "print(\"=\"*50)\n",
        "print(f\"Training samples: {train_data.samples}\")\n",
        "print(f\"Validation samples: {valid_data.samples}\")\n",
        "print(f\"Number of classes: {train_data.num_classes}\")\n",
        "print(f\"Class indices: {train_data.class_indices}\")"
      ]
    },
    {
      "cell_type": "markdown",
      "id": "0087dbb4",
      "metadata": {
        "id": "0087dbb4"
      },
      "source": [
        "## Step 6: Learning Rate Scheduler and Callbacks"
      ]
    },
    {
      "cell_type": "code",
      "execution_count": 6,
      "id": "077cd5e7",
      "metadata": {
        "colab": {
          "base_uri": "https://localhost:8080/"
        },
        "id": "077cd5e7",
        "outputId": "ad5e93fb-3340-48c8-f141-fd962ab40a84"
      },
      "outputs": [
        {
          "output_type": "stream",
          "name": "stdout",
          "text": [
            "Callbacks configured successfully!\n"
          ]
        }
      ],
      "source": [
        "# Improved learning rate scheduler\n",
        "def lr_scheduler(epoch, lr):\n",
        "    if epoch < 10:\n",
        "        return 0.001\n",
        "    elif epoch < 20:\n",
        "        return 0.0005\n",
        "    elif epoch < 30:\n",
        "        return 0.0001\n",
        "    else:\n",
        "        return 0.00005\n",
        "\n",
        "# Create callbacks\n",
        "lr_callback = LearningRateScheduler(lr_scheduler)\n",
        "early_stopping = EarlyStopping(\n",
        "    monitor='val_loss',\n",
        "    patience=10,\n",
        "    restore_best_weights=True\n",
        ")\n",
        "reduce_lr = ReduceLROnPlateau(\n",
        "    monitor='val_loss',\n",
        "    factor=0.5,\n",
        "    patience=5,\n",
        "    min_lr=0.00001\n",
        ")\n",
        "\n",
        "print(\"Callbacks configured successfully!\")"
      ]
    },
    {
      "cell_type": "markdown",
      "id": "8028c824",
      "metadata": {
        "id": "8028c824"
      },
      "source": [
        "## Step 7: Model Architecture"
      ]
    },
    {
      "cell_type": "code",
      "execution_count": 7,
      "id": "70d811bd",
      "metadata": {
        "colab": {
          "base_uri": "https://localhost:8080/",
          "height": 392
        },
        "id": "70d811bd",
        "outputId": "2a36500b-bdce-433c-d20b-f2713a6ba8f2"
      },
      "outputs": [
        {
          "output_type": "stream",
          "name": "stdout",
          "text": [
            "Downloading data from https://storage.googleapis.com/keras-applications/efficientnetb0_notop.h5\n",
            "\u001b[1m16705208/16705208\u001b[0m \u001b[32m━━━━━━━━━━━━━━━━━━━━\u001b[0m\u001b[37m\u001b[0m \u001b[1m1s\u001b[0m 0us/step\n",
            "Model Architecture:\n"
          ]
        },
        {
          "output_type": "display_data",
          "data": {
            "text/plain": [
              "\u001b[1mModel: \"sequential\"\u001b[0m\n"
            ],
            "text/html": [
              "<pre style=\"white-space:pre;overflow-x:auto;line-height:normal;font-family:Menlo,'DejaVu Sans Mono',consolas,'Courier New',monospace\"><span style=\"font-weight: bold\">Model: \"sequential\"</span>\n",
              "</pre>\n"
            ]
          },
          "metadata": {}
        },
        {
          "output_type": "display_data",
          "data": {
            "text/plain": [
              "┏━━━━━━━━━━━━━━━━━━━━━━━━━━━━━━━━━┳━━━━━━━━━━━━━━━━━━━━━━━━┳━━━━━━━━━━━━━━━┓\n",
              "┃\u001b[1m \u001b[0m\u001b[1mLayer (type)                   \u001b[0m\u001b[1m \u001b[0m┃\u001b[1m \u001b[0m\u001b[1mOutput Shape          \u001b[0m\u001b[1m \u001b[0m┃\u001b[1m \u001b[0m\u001b[1m      Param #\u001b[0m\u001b[1m \u001b[0m┃\n",
              "┡━━━━━━━━━━━━━━━━━━━━━━━━━━━━━━━━━╇━━━━━━━━━━━━━━━━━━━━━━━━╇━━━━━━━━━━━━━━━┩\n",
              "│ efficientnetb0 (\u001b[38;5;33mFunctional\u001b[0m)     │ (\u001b[38;5;45mNone\u001b[0m, \u001b[38;5;34m7\u001b[0m, \u001b[38;5;34m7\u001b[0m, \u001b[38;5;34m1280\u001b[0m)     │     \u001b[38;5;34m4,049,571\u001b[0m │\n",
              "├─────────────────────────────────┼────────────────────────┼───────────────┤\n",
              "│ global_average_pooling2d        │ (\u001b[38;5;45mNone\u001b[0m, \u001b[38;5;34m1280\u001b[0m)           │             \u001b[38;5;34m0\u001b[0m │\n",
              "│ (\u001b[38;5;33mGlobalAveragePooling2D\u001b[0m)        │                        │               │\n",
              "├─────────────────────────────────┼────────────────────────┼───────────────┤\n",
              "│ dropout (\u001b[38;5;33mDropout\u001b[0m)               │ (\u001b[38;5;45mNone\u001b[0m, \u001b[38;5;34m1280\u001b[0m)           │             \u001b[38;5;34m0\u001b[0m │\n",
              "├─────────────────────────────────┼────────────────────────┼───────────────┤\n",
              "│ dense (\u001b[38;5;33mDense\u001b[0m)                   │ (\u001b[38;5;45mNone\u001b[0m, \u001b[38;5;34m128\u001b[0m)            │       \u001b[38;5;34m163,968\u001b[0m │\n",
              "├─────────────────────────────────┼────────────────────────┼───────────────┤\n",
              "│ dropout_1 (\u001b[38;5;33mDropout\u001b[0m)             │ (\u001b[38;5;45mNone\u001b[0m, \u001b[38;5;34m128\u001b[0m)            │             \u001b[38;5;34m0\u001b[0m │\n",
              "├─────────────────────────────────┼────────────────────────┼───────────────┤\n",
              "│ dense_1 (\u001b[38;5;33mDense\u001b[0m)                 │ (\u001b[38;5;45mNone\u001b[0m, \u001b[38;5;34m5\u001b[0m)              │           \u001b[38;5;34m645\u001b[0m │\n",
              "└─────────────────────────────────┴────────────────────────┴───────────────┘\n"
            ],
            "text/html": [
              "<pre style=\"white-space:pre;overflow-x:auto;line-height:normal;font-family:Menlo,'DejaVu Sans Mono',consolas,'Courier New',monospace\">┏━━━━━━━━━━━━━━━━━━━━━━━━━━━━━━━━━┳━━━━━━━━━━━━━━━━━━━━━━━━┳━━━━━━━━━━━━━━━┓\n",
              "┃<span style=\"font-weight: bold\"> Layer (type)                    </span>┃<span style=\"font-weight: bold\"> Output Shape           </span>┃<span style=\"font-weight: bold\">       Param # </span>┃\n",
              "┡━━━━━━━━━━━━━━━━━━━━━━━━━━━━━━━━━╇━━━━━━━━━━━━━━━━━━━━━━━━╇━━━━━━━━━━━━━━━┩\n",
              "│ efficientnetb0 (<span style=\"color: #0087ff; text-decoration-color: #0087ff\">Functional</span>)     │ (<span style=\"color: #00d7ff; text-decoration-color: #00d7ff\">None</span>, <span style=\"color: #00af00; text-decoration-color: #00af00\">7</span>, <span style=\"color: #00af00; text-decoration-color: #00af00\">7</span>, <span style=\"color: #00af00; text-decoration-color: #00af00\">1280</span>)     │     <span style=\"color: #00af00; text-decoration-color: #00af00\">4,049,571</span> │\n",
              "├─────────────────────────────────┼────────────────────────┼───────────────┤\n",
              "│ global_average_pooling2d        │ (<span style=\"color: #00d7ff; text-decoration-color: #00d7ff\">None</span>, <span style=\"color: #00af00; text-decoration-color: #00af00\">1280</span>)           │             <span style=\"color: #00af00; text-decoration-color: #00af00\">0</span> │\n",
              "│ (<span style=\"color: #0087ff; text-decoration-color: #0087ff\">GlobalAveragePooling2D</span>)        │                        │               │\n",
              "├─────────────────────────────────┼────────────────────────┼───────────────┤\n",
              "│ dropout (<span style=\"color: #0087ff; text-decoration-color: #0087ff\">Dropout</span>)               │ (<span style=\"color: #00d7ff; text-decoration-color: #00d7ff\">None</span>, <span style=\"color: #00af00; text-decoration-color: #00af00\">1280</span>)           │             <span style=\"color: #00af00; text-decoration-color: #00af00\">0</span> │\n",
              "├─────────────────────────────────┼────────────────────────┼───────────────┤\n",
              "│ dense (<span style=\"color: #0087ff; text-decoration-color: #0087ff\">Dense</span>)                   │ (<span style=\"color: #00d7ff; text-decoration-color: #00d7ff\">None</span>, <span style=\"color: #00af00; text-decoration-color: #00af00\">128</span>)            │       <span style=\"color: #00af00; text-decoration-color: #00af00\">163,968</span> │\n",
              "├─────────────────────────────────┼────────────────────────┼───────────────┤\n",
              "│ dropout_1 (<span style=\"color: #0087ff; text-decoration-color: #0087ff\">Dropout</span>)             │ (<span style=\"color: #00d7ff; text-decoration-color: #00d7ff\">None</span>, <span style=\"color: #00af00; text-decoration-color: #00af00\">128</span>)            │             <span style=\"color: #00af00; text-decoration-color: #00af00\">0</span> │\n",
              "├─────────────────────────────────┼────────────────────────┼───────────────┤\n",
              "│ dense_1 (<span style=\"color: #0087ff; text-decoration-color: #0087ff\">Dense</span>)                 │ (<span style=\"color: #00d7ff; text-decoration-color: #00d7ff\">None</span>, <span style=\"color: #00af00; text-decoration-color: #00af00\">5</span>)              │           <span style=\"color: #00af00; text-decoration-color: #00af00\">645</span> │\n",
              "└─────────────────────────────────┴────────────────────────┴───────────────┘\n",
              "</pre>\n"
            ]
          },
          "metadata": {}
        },
        {
          "output_type": "display_data",
          "data": {
            "text/plain": [
              "\u001b[1m Total params: \u001b[0m\u001b[38;5;34m4,214,184\u001b[0m (16.08 MB)\n"
            ],
            "text/html": [
              "<pre style=\"white-space:pre;overflow-x:auto;line-height:normal;font-family:Menlo,'DejaVu Sans Mono',consolas,'Courier New',monospace\"><span style=\"font-weight: bold\"> Total params: </span><span style=\"color: #00af00; text-decoration-color: #00af00\">4,214,184</span> (16.08 MB)\n",
              "</pre>\n"
            ]
          },
          "metadata": {}
        },
        {
          "output_type": "display_data",
          "data": {
            "text/plain": [
              "\u001b[1m Trainable params: \u001b[0m\u001b[38;5;34m4,004,961\u001b[0m (15.28 MB)\n"
            ],
            "text/html": [
              "<pre style=\"white-space:pre;overflow-x:auto;line-height:normal;font-family:Menlo,'DejaVu Sans Mono',consolas,'Courier New',monospace\"><span style=\"font-weight: bold\"> Trainable params: </span><span style=\"color: #00af00; text-decoration-color: #00af00\">4,004,961</span> (15.28 MB)\n",
              "</pre>\n"
            ]
          },
          "metadata": {}
        },
        {
          "output_type": "display_data",
          "data": {
            "text/plain": [
              "\u001b[1m Non-trainable params: \u001b[0m\u001b[38;5;34m209,223\u001b[0m (817.28 KB)\n"
            ],
            "text/html": [
              "<pre style=\"white-space:pre;overflow-x:auto;line-height:normal;font-family:Menlo,'DejaVu Sans Mono',consolas,'Courier New',monospace\"><span style=\"font-weight: bold\"> Non-trainable params: </span><span style=\"color: #00af00; text-decoration-color: #00af00\">209,223</span> (817.28 KB)\n",
              "</pre>\n"
            ]
          },
          "metadata": {}
        }
      ],
      "source": [
        "# Build improved model with EfficientNetB0\n",
        "def create_model(num_classes):\n",
        "    base_model = EfficientNetB0(\n",
        "        input_shape=(224, 224, 3),\n",
        "        weights='imagenet',\n",
        "        include_top=False\n",
        "    )\n",
        "    base_model.trainable = True\n",
        "    fine_tune_at = 100\n",
        "    for layer in base_model.layers[:fine_tune_at]:\n",
        "        layer.trainable = False\n",
        "    model = Sequential([\n",
        "        base_model,\n",
        "        GlobalAveragePooling2D(),\n",
        "        Dropout(0.3),\n",
        "        Dense(128, activation='relu'),\n",
        "        Dropout(0.5),\n",
        "        Dense(num_classes, activation='softmax')\n",
        "    ])\n",
        "    return model\n",
        "\n",
        "# Create and compile model\n",
        "model = create_model(train_data.num_classes)\n",
        "model.compile(\n",
        "    optimizer=Adam(learning_rate=0.001),\n",
        "    loss='categorical_crossentropy',\n",
        "    metrics=['accuracy']\n",
        ")\n",
        "\n",
        "print(\"Model Architecture:\")\n",
        "model.summary()"
      ]
    },
    {
      "cell_type": "markdown",
      "id": "26296bb5",
      "metadata": {
        "id": "26296bb5"
      },
      "source": [
        "## Step 8: Train the Model"
      ]
    },
    {
      "cell_type": "code",
      "execution_count": 8,
      "id": "d48aaf62",
      "metadata": {
        "colab": {
          "base_uri": "https://localhost:8080/"
        },
        "id": "d48aaf62",
        "outputId": "3c7bc39e-e686-4df9-b4d1-851336ee9a50"
      },
      "outputs": [
        {
          "output_type": "stream",
          "name": "stdout",
          "text": [
            "\n",
            "Starting model training...\n"
          ]
        },
        {
          "output_type": "stream",
          "name": "stderr",
          "text": [
            "/usr/local/lib/python3.11/dist-packages/keras/src/trainers/data_adapters/py_dataset_adapter.py:121: UserWarning: Your `PyDataset` class should call `super().__init__(**kwargs)` in its constructor. `**kwargs` can include `workers`, `use_multiprocessing`, `max_queue_size`. Do not pass these arguments to `fit()`, as they will be ignored.\n",
            "  self._warn_if_super_not_called()\n"
          ]
        },
        {
          "output_type": "stream",
          "name": "stdout",
          "text": [
            "Epoch 1/50\n",
            "\u001b[1m92/92\u001b[0m \u001b[32m━━━━━━━━━━━━━━━━━━━━\u001b[0m\u001b[37m\u001b[0m \u001b[1m134s\u001b[0m 844ms/step - accuracy: 0.5141 - loss: 1.2775 - val_accuracy: 0.2722 - val_loss: 1.7300 - learning_rate: 0.0010\n",
            "Epoch 2/50\n",
            "\u001b[1m92/92\u001b[0m \u001b[32m━━━━━━━━━━━━━━━━━━━━\u001b[0m\u001b[37m\u001b[0m \u001b[1m41s\u001b[0m 441ms/step - accuracy: 0.6029 - loss: 1.1178 - val_accuracy: 0.4938 - val_loss: 1.3132 - learning_rate: 0.0010\n",
            "Epoch 3/50\n",
            "\u001b[1m92/92\u001b[0m \u001b[32m━━━━━━━━━━━━━━━━━━━━\u001b[0m\u001b[37m\u001b[0m \u001b[1m42s\u001b[0m 453ms/step - accuracy: 0.5857 - loss: 1.1163 - val_accuracy: 0.4938 - val_loss: 1.0790 - learning_rate: 0.0010\n",
            "Epoch 4/50\n",
            "\u001b[1m92/92\u001b[0m \u001b[32m━━━━━━━━━━━━━━━━━━━━\u001b[0m\u001b[37m\u001b[0m \u001b[1m81s\u001b[0m 447ms/step - accuracy: 0.6157 - loss: 1.0519 - val_accuracy: 0.4938 - val_loss: 1.1839 - learning_rate: 0.0010\n",
            "Epoch 5/50\n",
            "\u001b[1m92/92\u001b[0m \u001b[32m━━━━━━━━━━━━━━━━━━━━\u001b[0m\u001b[37m\u001b[0m \u001b[1m42s\u001b[0m 456ms/step - accuracy: 0.6312 - loss: 1.0168 - val_accuracy: 0.4938 - val_loss: 2.4110 - learning_rate: 0.0010\n",
            "Epoch 6/50\n",
            "\u001b[1m92/92\u001b[0m \u001b[32m━━━━━━━━━━━━━━━━━━━━\u001b[0m\u001b[37m\u001b[0m \u001b[1m42s\u001b[0m 458ms/step - accuracy: 0.6252 - loss: 1.0297 - val_accuracy: 0.4938 - val_loss: 1.3282 - learning_rate: 0.0010\n",
            "Epoch 7/50\n",
            "\u001b[1m92/92\u001b[0m \u001b[32m━━━━━━━━━━━━━━━━━━━━\u001b[0m\u001b[37m\u001b[0m \u001b[1m41s\u001b[0m 444ms/step - accuracy: 0.6244 - loss: 1.0646 - val_accuracy: 0.5404 - val_loss: 1.3223 - learning_rate: 0.0010\n",
            "Epoch 8/50\n",
            "\u001b[1m92/92\u001b[0m \u001b[32m━━━━━━━━━━━━━━━━━━━━\u001b[0m\u001b[37m\u001b[0m \u001b[1m42s\u001b[0m 458ms/step - accuracy: 0.6453 - loss: 0.9913 - val_accuracy: 0.4938 - val_loss: 1.2591 - learning_rate: 0.0010\n",
            "Epoch 9/50\n",
            "\u001b[1m92/92\u001b[0m \u001b[32m━━━━━━━━━━━━━━━━━━━━\u001b[0m\u001b[37m\u001b[0m \u001b[1m41s\u001b[0m 450ms/step - accuracy: 0.6560 - loss: 0.9563 - val_accuracy: 0.6211 - val_loss: 1.0427 - learning_rate: 0.0010\n",
            "Epoch 10/50\n",
            "\u001b[1m92/92\u001b[0m \u001b[32m━━━━━━━━━━━━━━━━━━━━\u001b[0m\u001b[37m\u001b[0m \u001b[1m43s\u001b[0m 463ms/step - accuracy: 0.6671 - loss: 0.9222 - val_accuracy: 0.5198 - val_loss: 1.1956 - learning_rate: 0.0010\n",
            "Epoch 11/50\n",
            "\u001b[1m92/92\u001b[0m \u001b[32m━━━━━━━━━━━━━━━━━━━━\u001b[0m\u001b[37m\u001b[0m \u001b[1m41s\u001b[0m 448ms/step - accuracy: 0.6732 - loss: 0.8979 - val_accuracy: 0.5308 - val_loss: 1.4469 - learning_rate: 5.0000e-04\n",
            "Epoch 12/50\n",
            "\u001b[1m92/92\u001b[0m \u001b[32m━━━━━━━━━━━━━━━━━━━━\u001b[0m\u001b[37m\u001b[0m \u001b[1m41s\u001b[0m 449ms/step - accuracy: 0.7035 - loss: 0.8360 - val_accuracy: 0.5021 - val_loss: 1.3838 - learning_rate: 5.0000e-04\n",
            "Epoch 13/50\n",
            "\u001b[1m92/92\u001b[0m \u001b[32m━━━━━━━━━━━━━━━━━━━━\u001b[0m\u001b[37m\u001b[0m \u001b[1m44s\u001b[0m 477ms/step - accuracy: 0.7003 - loss: 0.8368 - val_accuracy: 0.5910 - val_loss: 1.2232 - learning_rate: 5.0000e-04\n",
            "Epoch 14/50\n",
            "\u001b[1m92/92\u001b[0m \u001b[32m━━━━━━━━━━━━━━━━━━━━\u001b[0m\u001b[37m\u001b[0m \u001b[1m83s\u001b[0m 488ms/step - accuracy: 0.6927 - loss: 0.8541 - val_accuracy: 0.3953 - val_loss: 1.5415 - learning_rate: 5.0000e-04\n",
            "Epoch 15/50\n",
            "\u001b[1m92/92\u001b[0m \u001b[32m━━━━━━━━━━━━━━━━━━━━\u001b[0m\u001b[37m\u001b[0m \u001b[1m42s\u001b[0m 453ms/step - accuracy: 0.7067 - loss: 0.8061 - val_accuracy: 0.4952 - val_loss: 1.8397 - learning_rate: 5.0000e-04\n",
            "Epoch 16/50\n",
            "\u001b[1m92/92\u001b[0m \u001b[32m━━━━━━━━━━━━━━━━━━━━\u001b[0m\u001b[37m\u001b[0m \u001b[1m44s\u001b[0m 474ms/step - accuracy: 0.7033 - loss: 0.8302 - val_accuracy: 0.5103 - val_loss: 1.3017 - learning_rate: 5.0000e-04\n",
            "Epoch 17/50\n",
            "\u001b[1m92/92\u001b[0m \u001b[32m━━━━━━━━━━━━━━━━━━━━\u001b[0m\u001b[37m\u001b[0m \u001b[1m42s\u001b[0m 455ms/step - accuracy: 0.7031 - loss: 0.8220 - val_accuracy: 0.5650 - val_loss: 1.3840 - learning_rate: 5.0000e-04\n",
            "Epoch 18/50\n",
            "\u001b[1m92/92\u001b[0m \u001b[32m━━━━━━━━━━━━━━━━━━━━\u001b[0m\u001b[37m\u001b[0m \u001b[1m41s\u001b[0m 449ms/step - accuracy: 0.6969 - loss: 0.7803 - val_accuracy: 0.5691 - val_loss: 1.2309 - learning_rate: 5.0000e-04\n",
            "Epoch 19/50\n",
            "\u001b[1m92/92\u001b[0m \u001b[32m━━━━━━━━━━━━━━━━━━━━\u001b[0m\u001b[37m\u001b[0m \u001b[1m44s\u001b[0m 473ms/step - accuracy: 0.7074 - loss: 0.7853 - val_accuracy: 0.6744 - val_loss: 0.8748 - learning_rate: 5.0000e-04\n",
            "Epoch 20/50\n",
            "\u001b[1m92/92\u001b[0m \u001b[32m━━━━━━━━━━━━━━━━━━━━\u001b[0m\u001b[37m\u001b[0m \u001b[1m41s\u001b[0m 451ms/step - accuracy: 0.7186 - loss: 0.7736 - val_accuracy: 0.5226 - val_loss: 1.4309 - learning_rate: 5.0000e-04\n",
            "Epoch 21/50\n",
            "\u001b[1m92/92\u001b[0m \u001b[32m━━━━━━━━━━━━━━━━━━━━\u001b[0m\u001b[37m\u001b[0m \u001b[1m42s\u001b[0m 459ms/step - accuracy: 0.7051 - loss: 0.8091 - val_accuracy: 0.7073 - val_loss: 0.8194 - learning_rate: 1.0000e-04\n",
            "Epoch 22/50\n",
            "\u001b[1m92/92\u001b[0m \u001b[32m━━━━━━━━━━━━━━━━━━━━\u001b[0m\u001b[37m\u001b[0m \u001b[1m41s\u001b[0m 445ms/step - accuracy: 0.7194 - loss: 0.7490 - val_accuracy: 0.5116 - val_loss: 1.7166 - learning_rate: 1.0000e-04\n",
            "Epoch 23/50\n",
            "\u001b[1m92/92\u001b[0m \u001b[32m━━━━━━━━━━━━━━━━━━━━\u001b[0m\u001b[37m\u001b[0m \u001b[1m43s\u001b[0m 467ms/step - accuracy: 0.7359 - loss: 0.7334 - val_accuracy: 0.6772 - val_loss: 0.8230 - learning_rate: 1.0000e-04\n",
            "Epoch 24/50\n",
            "\u001b[1m92/92\u001b[0m \u001b[32m━━━━━━━━━━━━━━━━━━━━\u001b[0m\u001b[37m\u001b[0m \u001b[1m42s\u001b[0m 448ms/step - accuracy: 0.7129 - loss: 0.7626 - val_accuracy: 0.4993 - val_loss: 1.8096 - learning_rate: 1.0000e-04\n",
            "Epoch 25/50\n",
            "\u001b[1m92/92\u001b[0m \u001b[32m━━━━━━━━━━━━━━━━━━━━\u001b[0m\u001b[37m\u001b[0m \u001b[1m41s\u001b[0m 448ms/step - accuracy: 0.7300 - loss: 0.7299 - val_accuracy: 0.6539 - val_loss: 1.0180 - learning_rate: 1.0000e-04\n",
            "Epoch 26/50\n",
            "\u001b[1m92/92\u001b[0m \u001b[32m━━━━━━━━━━━━━━━━━━━━\u001b[0m\u001b[37m\u001b[0m \u001b[1m42s\u001b[0m 455ms/step - accuracy: 0.7216 - loss: 0.7317 - val_accuracy: 0.7305 - val_loss: 0.6931 - learning_rate: 1.0000e-04\n",
            "Epoch 27/50\n",
            "\u001b[1m92/92\u001b[0m \u001b[32m━━━━━━━━━━━━━━━━━━━━\u001b[0m\u001b[37m\u001b[0m \u001b[1m42s\u001b[0m 456ms/step - accuracy: 0.7150 - loss: 0.7350 - val_accuracy: 0.5663 - val_loss: 1.7032 - learning_rate: 1.0000e-04\n",
            "Epoch 28/50\n",
            "\u001b[1m92/92\u001b[0m \u001b[32m━━━━━━━━━━━━━━━━━━━━\u001b[0m\u001b[37m\u001b[0m \u001b[1m41s\u001b[0m 449ms/step - accuracy: 0.7362 - loss: 0.7253 - val_accuracy: 0.5499 - val_loss: 1.9431 - learning_rate: 1.0000e-04\n",
            "Epoch 29/50\n",
            "\u001b[1m92/92\u001b[0m \u001b[32m━━━━━━━━━━━━━━━━━━━━\u001b[0m\u001b[37m\u001b[0m \u001b[1m83s\u001b[0m 456ms/step - accuracy: 0.7429 - loss: 0.7072 - val_accuracy: 0.7018 - val_loss: 0.8487 - learning_rate: 1.0000e-04\n",
            "Epoch 30/50\n",
            "\u001b[1m92/92\u001b[0m \u001b[32m━━━━━━━━━━━━━━━━━━━━\u001b[0m\u001b[37m\u001b[0m \u001b[1m42s\u001b[0m 455ms/step - accuracy: 0.7383 - loss: 0.7209 - val_accuracy: 0.6689 - val_loss: 0.8269 - learning_rate: 1.0000e-04\n",
            "Epoch 31/50\n",
            "\u001b[1m92/92\u001b[0m \u001b[32m━━━━━━━━━━━━━━━━━━━━\u001b[0m\u001b[37m\u001b[0m \u001b[1m41s\u001b[0m 449ms/step - accuracy: 0.7419 - loss: 0.7299 - val_accuracy: 0.5540 - val_loss: 1.5431 - learning_rate: 5.0000e-05\n",
            "Epoch 32/50\n",
            "\u001b[1m92/92\u001b[0m \u001b[32m━━━━━━━━━━━━━━━━━━━━\u001b[0m\u001b[37m\u001b[0m \u001b[1m41s\u001b[0m 450ms/step - accuracy: 0.7397 - loss: 0.6871 - val_accuracy: 0.7182 - val_loss: 0.7064 - learning_rate: 5.0000e-05\n",
            "Epoch 33/50\n",
            "\u001b[1m92/92\u001b[0m \u001b[32m━━━━━━━━━━━━━━━━━━━━\u001b[0m\u001b[37m\u001b[0m \u001b[1m44s\u001b[0m 474ms/step - accuracy: 0.7426 - loss: 0.6876 - val_accuracy: 0.6060 - val_loss: 1.5474 - learning_rate: 5.0000e-05\n",
            "Epoch 34/50\n",
            "\u001b[1m92/92\u001b[0m \u001b[32m━━━━━━━━━━━━━━━━━━━━\u001b[0m\u001b[37m\u001b[0m \u001b[1m42s\u001b[0m 461ms/step - accuracy: 0.7387 - loss: 0.7010 - val_accuracy: 0.7497 - val_loss: 0.6595 - learning_rate: 5.0000e-05\n",
            "Epoch 35/50\n",
            "\u001b[1m92/92\u001b[0m \u001b[32m━━━━━━━━━━━━━━━━━━━━\u001b[0m\u001b[37m\u001b[0m \u001b[1m43s\u001b[0m 470ms/step - accuracy: 0.7323 - loss: 0.7273 - val_accuracy: 0.6717 - val_loss: 1.0174 - learning_rate: 5.0000e-05\n",
            "Epoch 36/50\n",
            "\u001b[1m92/92\u001b[0m \u001b[32m━━━━━━━━━━━━━━━━━━━━\u001b[0m\u001b[37m\u001b[0m \u001b[1m42s\u001b[0m 456ms/step - accuracy: 0.7305 - loss: 0.7116 - val_accuracy: 0.7647 - val_loss: 0.6508 - learning_rate: 5.0000e-05\n",
            "Epoch 37/50\n",
            "\u001b[1m92/92\u001b[0m \u001b[32m━━━━━━━━━━━━━━━━━━━━\u001b[0m\u001b[37m\u001b[0m \u001b[1m43s\u001b[0m 470ms/step - accuracy: 0.7461 - loss: 0.6780 - val_accuracy: 0.6963 - val_loss: 0.9167 - learning_rate: 5.0000e-05\n",
            "Epoch 38/50\n",
            "\u001b[1m92/92\u001b[0m \u001b[32m━━━━━━━━━━━━━━━━━━━━\u001b[0m\u001b[37m\u001b[0m \u001b[1m82s\u001b[0m 467ms/step - accuracy: 0.7507 - loss: 0.6973 - val_accuracy: 0.5910 - val_loss: 1.6997 - learning_rate: 5.0000e-05\n",
            "Epoch 39/50\n",
            "\u001b[1m92/92\u001b[0m \u001b[32m━━━━━━━━━━━━━━━━━━━━\u001b[0m\u001b[37m\u001b[0m \u001b[1m44s\u001b[0m 477ms/step - accuracy: 0.7353 - loss: 0.7018 - val_accuracy: 0.7551 - val_loss: 0.6929 - learning_rate: 5.0000e-05\n",
            "Epoch 40/50\n",
            "\u001b[1m92/92\u001b[0m \u001b[32m━━━━━━━━━━━━━━━━━━━━\u001b[0m\u001b[37m\u001b[0m \u001b[1m42s\u001b[0m 453ms/step - accuracy: 0.7602 - loss: 0.6594 - val_accuracy: 0.5937 - val_loss: 1.6304 - learning_rate: 5.0000e-05\n",
            "Epoch 41/50\n",
            "\u001b[1m92/92\u001b[0m \u001b[32m━━━━━━━━━━━━━━━━━━━━\u001b[0m\u001b[37m\u001b[0m \u001b[1m42s\u001b[0m 458ms/step - accuracy: 0.7393 - loss: 0.6887 - val_accuracy: 0.5431 - val_loss: 1.7718 - learning_rate: 5.0000e-05\n",
            "Epoch 42/50\n",
            "\u001b[1m92/92\u001b[0m \u001b[32m━━━━━━━━━━━━━━━━━━━━\u001b[0m\u001b[37m\u001b[0m \u001b[1m42s\u001b[0m 455ms/step - accuracy: 0.7242 - loss: 0.6918 - val_accuracy: 0.5869 - val_loss: 1.5917 - learning_rate: 5.0000e-05\n",
            "Epoch 43/50\n",
            "\u001b[1m92/92\u001b[0m \u001b[32m━━━━━━━━━━━━━━━━━━━━\u001b[0m\u001b[37m\u001b[0m \u001b[1m43s\u001b[0m 472ms/step - accuracy: 0.7360 - loss: 0.6807 - val_accuracy: 0.5691 - val_loss: 1.8751 - learning_rate: 5.0000e-05\n",
            "Epoch 44/50\n",
            "\u001b[1m92/92\u001b[0m \u001b[32m━━━━━━━━━━━━━━━━━━━━\u001b[0m\u001b[37m\u001b[0m \u001b[1m41s\u001b[0m 444ms/step - accuracy: 0.7573 - loss: 0.6490 - val_accuracy: 0.4979 - val_loss: 2.7070 - learning_rate: 5.0000e-05\n",
            "Epoch 45/50\n",
            "\u001b[1m92/92\u001b[0m \u001b[32m━━━━━━━━━━━━━━━━━━━━\u001b[0m\u001b[37m\u001b[0m \u001b[1m84s\u001b[0m 468ms/step - accuracy: 0.7353 - loss: 0.6850 - val_accuracy: 0.5445 - val_loss: 2.2265 - learning_rate: 5.0000e-05\n",
            "Epoch 46/50\n",
            "\u001b[1m92/92\u001b[0m \u001b[32m━━━━━━━━━━━━━━━━━━━━\u001b[0m\u001b[37m\u001b[0m \u001b[1m41s\u001b[0m 446ms/step - accuracy: 0.7465 - loss: 0.6682 - val_accuracy: 0.5226 - val_loss: 2.6898 - learning_rate: 5.0000e-05\n",
            "Training completed!\n"
          ]
        }
      ],
      "source": [
        "print(\"\\nStarting model training...\")\n",
        "history = model.fit(\n",
        "    train_data,\n",
        "    validation_data=valid_data,\n",
        "    epochs=50,\n",
        "    callbacks=[lr_callback, early_stopping, reduce_lr],\n",
        "    verbose=1\n",
        ")\n",
        "print(\"Training completed!\")"
      ]
    },
    {
      "cell_type": "markdown",
      "id": "67bd528e",
      "metadata": {
        "id": "67bd528e"
      },
      "source": [
        "## Step 9: Plot Training History"
      ]
    },
    {
      "cell_type": "code",
      "execution_count": 19,
      "id": "d08fbfe1",
      "metadata": {
        "colab": {
          "base_uri": "https://localhost:8080/",
          "height": 507
        },
        "id": "d08fbfe1",
        "outputId": "5c765e40-bc73-470e-cb4f-14659ff63267"
      },
      "outputs": [
        {
          "output_type": "display_data",
          "data": {
            "text/plain": [
              "<Figure size 1500x500 with 2 Axes>"
            ],
            "image/png": "[encoded data removed]"
          },
          "metadata": {}
        }
      ],
      "source": [
        "# Plot training history\n",
        "def plot_training_history(history):\n",
        "    \"\"\"\n",
        "    Plot training and validation accuracy and loss\n",
        "    \"\"\"\n",
        "    fig, (ax1, ax2) = plt.subplots(1, 2, figsize=(15, 5))\n",
        "\n",
        "    # Plot accuracy\n",
        "    ax1.plot(history.history['accuracy'], label='Training Accuracy')\n",
        "    ax1.plot(history.history['val_accuracy'], label='Validation Accuracy')\n",
        "    ax1.set_title('Model Accuracy')\n",
        "    ax1.set_xlabel('Epoch')\n",
        "    ax1.set_ylabel('Accuracy')\n",
        "    ax1.legend()\n",
        "    ax1.grid(True)\n",
        "\n",
        "    # Plot loss\n",
        "    ax2.plot(history.history['loss'], label='Training Loss')\n",
        "    ax2.plot(history.history['val_loss'], label='Validation Loss')\n",
        "    ax2.set_title('Model Loss')\n",
        "    ax2.set_xlabel('Epoch')\n",
        "    ax2.set_ylabel('Loss')\n",
        "    ax2.legend()\n",
        "    ax2.grid(True)\n",
        "\n",
        "    plt.tight_layout()\n",
        "    plt.show()\n",
        "\n",
        "# Plot the training history\n",
        "plot_training_history(history)\n",
        "\n"
      ]
    },
    {
      "cell_type": "markdown",
      "id": "9cc45cbd",
      "metadata": {
        "id": "9cc45cbd"
      },
      "source": [
        "## Step 10: Advanced Evaluation Metrics"
      ]
    },
    {
      "cell_type": "code",
      "execution_count": 20,
      "id": "60d32931",
      "metadata": {
        "id": "60d32931"
      },
      "outputs": [],
      "source": [
        "# Function to calculate Quadratic Weighted Kappa Score\n",
        "def quadratic_weighted_kappa(y_true, y_pred, num_classes):\n",
        "    \"\"\"\n",
        "    Calculate Quadratic Weighted Kappa Score\n",
        "    This is more appropriate for ordinal classification like DR severity levels\n",
        "    \"\"\"\n",
        "    # Create weight matrix\n",
        "    weights = np.zeros((num_classes, num_classes))\n",
        "    for i in range(num_classes):\n",
        "        for j in range(num_classes):\n",
        "            weights[i, j] = ((i - j) ** 2) / ((num_classes - 1) ** 2)\n",
        "\n",
        "    # Calculate observed and expected matrices\n",
        "    hist_true = np.bincount(y_true, minlength=num_classes)\n",
        "    hist_pred = np.bincount(y_pred, minlength=num_classes)\n",
        "\n",
        "    O = confusion_matrix(y_true, y_pred)\n",
        "    E = np.outer(hist_true, hist_pred) / len(y_true)\n",
        "\n",
        "    # Calculate weighted kappa\n",
        "    numerator = np.sum(weights * O)\n",
        "    denominator = np.sum(weights * E)\n",
        "\n",
        "    if denominator == 0:\n",
        "        return 0.0\n",
        "\n",
        "    kappa = 1 - (numerator / denominator)\n",
        "    return kappa\n",
        "\n",
        "# Function to get predictions and true labels from validation data\n",
        "def get_predictions_and_labels(model, data_generator):\n",
        "    \"\"\"\n",
        "    Get predictions and true labels from data generator\n",
        "    \"\"\"\n",
        "    # Reset generator\n",
        "    data_generator.reset()\n",
        "\n",
        "    # Get predictions\n",
        "    predictions = model.predict(data_generator, verbose=1)\n",
        "    predicted_classes = np.argmax(predictions, axis=1)\n",
        "\n",
        "    # Get true labels\n",
        "    true_labels = data_generator.classes\n",
        "\n",
        "    return predicted_classes, true_labels, predictions"
      ]
    },
    {
      "cell_type": "markdown",
      "id": "cdbcd9e5",
      "metadata": {
        "id": "cdbcd9e5"
      },
      "source": [
        "## Step 11: Comprehensive Evaluation"
      ]
    },
    {
      "cell_type": "code",
      "execution_count": 28,
      "id": "49ad7974",
      "metadata": {
        "colab": {
          "base_uri": "https://localhost:8080/"
        },
        "id": "49ad7974",
        "outputId": "4f861f34-d8d8-4462-d216-32837b5f27c1"
      },
      "outputs": [
        {
          "output_type": "stream",
          "name": "stdout",
          "text": [
            "Getting predictions for validation data...\n",
            "\u001b[1m23/23\u001b[0m \u001b[32m━━━━━━━━━━━━━━━━━━━━\u001b[0m\u001b[37m\u001b[0m \u001b[1m2s\u001b[0m 81ms/step\n",
            "\n",
            "============================================================\n",
            "COMPREHENSIVE EVALUATION METRICS\n",
            "============================================================\n",
            "Accuracy: 0.7647\n",
            "Cohen's Kappa Score: 0.6279\n",
            "Quadratic Weighted Kappa Score: 0.2524\n",
            "Weighted Precision: 0.6966\n",
            "Weighted Recall: 0.7647\n",
            "Weighted F1-Score: 0.7208\n",
            "\n",
            "========================================\n",
            "KAPPA SCORE INTERPRETATION\n",
            "========================================\n",
            "Cohen's Kappa (0.6279): Substantial agreement\n",
            "Quadratic Weighted Kappa (0.2524): Fair agreement\n"
          ]
        },
        {
          "output_type": "stream",
          "name": "stderr",
          "text": [
            "/usr/local/lib/python3.11/dist-packages/sklearn/metrics/_classification.py:1565: UndefinedMetricWarning: Precision is ill-defined and being set to 0.0 in labels with no predicted samples. Use `zero_division` parameter to control this behavior.\n",
            "  _warn_prf(average, modifier, f\"{metric.capitalize()} is\", len(result))\n"
          ]
        }
      ],
      "source": [
        "print(\"Getting predictions for validation data...\")\n",
        "y_pred, y_true, y_pred_proba = get_predictions_and_labels(model, valid_data)\n",
        "\n",
        "print(\"\\n\" + \"=\"*60)\n",
        "print(\"COMPREHENSIVE EVALUATION METRICS\")\n",
        "print(\"=\"*60)\n",
        "\n",
        "# Basic accuracy\n",
        "accuracy = accuracy_score(y_true, y_pred)\n",
        "print(f\"Accuracy: {accuracy:.4f}\")\n",
        "\n",
        "# Cohen's Kappa Score (standard)\n",
        "kappa_score = cohen_kappa_score(y_true, y_pred)\n",
        "print(f\"Cohen's Kappa Score: {kappa_score:.4f}\")\n",
        "\n",
        "# Quadratic Weighted Kappa Score\n",
        "qwk_score = quadratic_weighted_kappa(y_true, y_pred, train_data.num_classes)\n",
        "print(f\"Quadratic Weighted Kappa Score: {qwk_score:.4f}\")\n",
        "\n",
        "# Precision, Recall, F1-Score\n",
        "precision, recall, f1, support = precision_recall_fscore_support(y_true, y_pred, average='weighted')\n",
        "print(f\"Weighted Precision: {precision:.4f}\")\n",
        "print(f\"Weighted Recall: {recall:.4f}\")\n",
        "print(f\"Weighted F1-Score: {f1:.4f}\")\n",
        "\n",
        "# Kappa Score Interpretation\n",
        "print(\"\\n\" + \"=\"*40)\n",
        "print(\"KAPPA SCORE INTERPRETATION\")\n",
        "print(\"=\"*40)\n",
        "\n",
        "def interpret_kappa(kappa):\n",
        "    if kappa < 0:\n",
        "        return \"Poor (worse than random)\"\n",
        "    elif kappa < 0.20:\n",
        "        return \"Slight agreement\"\n",
        "    elif kappa < 0.40:\n",
        "        return \"Fair agreement\"\n",
        "    elif kappa < 0.60:\n",
        "        return \"Moderate agreement\"\n",
        "    elif kappa < 0.80:\n",
        "        return \"Substantial agreement\"\n",
        "    else:\n",
        "        return \"Almost perfect agreement\"\n",
        "\n",
        "print(f\"Cohen's Kappa ({kappa_score:.4f}): {interpret_kappa(kappa_score)}\")\n",
        "print(f\"Quadratic Weighted Kappa ({qwk_score:.4f}): {interpret_kappa(qwk_score)}\")\n"
      ]
    },
    {
      "cell_type": "markdown",
      "id": "4c512aa0",
      "metadata": {
        "id": "4c512aa0"
      },
      "source": [
        "## Step 12: Detailed Classification Report"
      ]
    },
    {
      "cell_type": "code",
      "execution_count": 29,
      "id": "ad7798d7",
      "metadata": {
        "colab": {
          "base_uri": "https://localhost:8080/"
        },
        "id": "ad7798d7",
        "outputId": "ed9725b3-d1f3-49c4-8310-6581050508f8"
      },
      "outputs": [
        {
          "output_type": "stream",
          "name": "stdout",
          "text": [
            "\n",
            "========================================\n",
            "DETAILED CLASSIFICATION REPORT\n",
            "========================================\n",
            "                precision    recall  f1-score   support\n",
            "\n",
            "          Mild       0.55      0.42      0.48        74\n",
            "      Moderate       0.59      0.87      0.70       199\n",
            "         No_DR       0.95      0.98      0.97       361\n",
            "Proliferate_DR       0.00      0.00      0.00        59\n",
            "        Severe       0.17      0.05      0.08        38\n",
            "\n",
            "      accuracy                           0.76       731\n",
            "     macro avg       0.45      0.46      0.45       731\n",
            "  weighted avg       0.70      0.76      0.72       731\n",
            "\n"
          ]
        },
        {
          "output_type": "stream",
          "name": "stderr",
          "text": [
            "/usr/local/lib/python3.11/dist-packages/sklearn/metrics/_classification.py:1565: UndefinedMetricWarning: Precision is ill-defined and being set to 0.0 in labels with no predicted samples. Use `zero_division` parameter to control this behavior.\n",
            "  _warn_prf(average, modifier, f\"{metric.capitalize()} is\", len(result))\n",
            "/usr/local/lib/python3.11/dist-packages/sklearn/metrics/_classification.py:1565: UndefinedMetricWarning: Precision is ill-defined and being set to 0.0 in labels with no predicted samples. Use `zero_division` parameter to control this behavior.\n",
            "  _warn_prf(average, modifier, f\"{metric.capitalize()} is\", len(result))\n",
            "/usr/local/lib/python3.11/dist-packages/sklearn/metrics/_classification.py:1565: UndefinedMetricWarning: Precision is ill-defined and being set to 0.0 in labels with no predicted samples. Use `zero_division` parameter to control this behavior.\n",
            "  _warn_prf(average, modifier, f\"{metric.capitalize()} is\", len(result))\n"
          ]
        }
      ],
      "source": [
        "print(\"\\n\" + \"=\"*40)\n",
        "print(\"DETAILED CLASSIFICATION REPORT\")\n",
        "print(\"=\"*40)\n",
        "class_names = list(train_data.class_indices.keys())\n",
        "print(classification_report(y_true, y_pred, target_names=class_names))\n",
        "\n"
      ]
    },
    {
      "cell_type": "markdown",
      "id": "664d6c8e",
      "metadata": {
        "id": "664d6c8e"
      },
      "source": [
        "## Step 13: Confusion Matrix Visualization"
      ]
    },
    {
      "cell_type": "code",
      "execution_count": 30,
      "id": "c276e4a3",
      "metadata": {
        "colab": {
          "base_uri": "https://localhost:8080/",
          "height": 1000
        },
        "id": "c276e4a3",
        "outputId": "31a55279-f981-4637-b902-ea1e6c902d00"
      },
      "outputs": [
        {
          "output_type": "stream",
          "name": "stdout",
          "text": [
            "\n",
            "========================================\n",
            "CONFUSION MATRIX\n",
            "========================================\n",
            "Confusion Matrix (Raw counts):\n",
            "[[ 31  37   4   0   2]\n",
            " [ 10 173  10   0   6]\n",
            " [  4   4 353   0   0]\n",
            " [  8  46   3   0   2]\n",
            " [  3  33   0   0   2]]\n"
          ]
        },
        {
          "output_type": "display_data",
          "data": {
            "text/plain": [
              "<Figure size 1000x800 with 2 Axes>"
            ],
            "image/png": "[encoded data removed]"
          },
          "metadata": {}
        },
        {
          "output_type": "display_data",
          "data": {
            "text/plain": [
              "<Figure size 1000x800 with 2 Axes>"
            ],
            "image/png": "[encoded data removed]"
          },
          "metadata": {}
        }
      ],
      "source": [
        "print(\"\\n\" + \"=\"*40)\n",
        "print(\"CONFUSION MATRIX\")\n",
        "print(\"=\"*40)\n",
        "cm = confusion_matrix(y_true, y_pred)\n",
        "print(\"Confusion Matrix (Raw counts):\")\n",
        "print(cm)\n",
        "\n",
        "# Plot confusion matrix\n",
        "plt.figure(figsize=(10, 8))\n",
        "sns.heatmap(cm, annot=True, fmt='d', cmap='Blues',\n",
        "            xticklabels=class_names,\n",
        "            yticklabels=class_names)\n",
        "plt.title('Confusion Matrix')\n",
        "plt.ylabel('True Label')\n",
        "plt.xlabel('Predicted Label')\n",
        "plt.show()\n",
        "\n",
        "# Normalized confusion matrix\n",
        "cm_normalized = cm.astype('float') / cm.sum(axis=1)[:, np.newaxis]\n",
        "plt.figure(figsize=(10, 8))\n",
        "sns.heatmap(cm_normalized, annot=True, fmt='.2f', cmap='Blues',\n",
        "            xticklabels=class_names,\n",
        "            yticklabels=class_names)\n",
        "plt.title('Normalized Confusion Matrix')\n",
        "plt.ylabel('True Label')\n",
        "plt.xlabel('Predicted Label')\n",
        "plt.show()\n"
      ]
    },
    {
      "cell_type": "markdown",
      "id": "df0ea4c9",
      "metadata": {
        "id": "df0ea4c9"
      },
      "source": [
        "## Step 14: Per-Class Metrics"
      ]
    },
    {
      "cell_type": "code",
      "execution_count": 31,
      "id": "d350c961",
      "metadata": {
        "colab": {
          "base_uri": "https://localhost:8080/"
        },
        "id": "d350c961",
        "outputId": "dd5219b4-abab-47bf-f9d7-a6bea4c648ec"
      },
      "outputs": [
        {
          "output_type": "stream",
          "name": "stdout",
          "text": [
            "\n",
            "========================================\n",
            "PER-CLASS METRICS\n",
            "========================================\n",
            "Mild:\n",
            "  Precision: 0.5536\n",
            "  Recall: 0.4189\n",
            "  F1-Score: 0.4769\n",
            "  Support: 74\n",
            "\n",
            "Moderate:\n",
            "  Precision: 0.5904\n",
            "  Recall: 0.8693\n",
            "  F1-Score: 0.7033\n",
            "  Support: 199\n",
            "\n",
            "No_DR:\n",
            "  Precision: 0.9541\n",
            "  Recall: 0.9778\n",
            "  F1-Score: 0.9658\n",
            "  Support: 361\n",
            "\n",
            "Proliferate_DR:\n",
            "  Precision: 0.0000\n",
            "  Recall: 0.0000\n",
            "  F1-Score: 0.0000\n",
            "  Support: 59\n",
            "\n",
            "Severe:\n",
            "  Precision: 0.1667\n",
            "  Recall: 0.0526\n",
            "  F1-Score: 0.0800\n",
            "  Support: 38\n",
            "\n"
          ]
        },
        {
          "output_type": "stream",
          "name": "stderr",
          "text": [
            "/usr/local/lib/python3.11/dist-packages/sklearn/metrics/_classification.py:1565: UndefinedMetricWarning: Precision is ill-defined and being set to 0.0 due to no predicted samples. Use `zero_division` parameter to control this behavior.\n",
            "  _warn_prf(average, modifier, f\"{metric.capitalize()} is\", len(result))\n",
            "/usr/local/lib/python3.11/dist-packages/sklearn/metrics/_classification.py:1565: UndefinedMetricWarning: Precision is ill-defined and being set to 0.0 due to no predicted samples. Use `zero_division` parameter to control this behavior.\n",
            "  _warn_prf(average, modifier, f\"{metric.capitalize()} is\", len(result))\n",
            "/usr/local/lib/python3.11/dist-packages/sklearn/metrics/_classification.py:1565: UndefinedMetricWarning: Precision is ill-defined and being set to 0.0 due to no predicted samples. Use `zero_division` parameter to control this behavior.\n",
            "  _warn_prf(average, modifier, f\"{metric.capitalize()} is\", len(result))\n",
            "/usr/local/lib/python3.11/dist-packages/sklearn/metrics/_classification.py:1565: UndefinedMetricWarning: Precision is ill-defined and being set to 0.0 due to no predicted samples. Use `zero_division` parameter to control this behavior.\n",
            "  _warn_prf(average, modifier, f\"{metric.capitalize()} is\", len(result))\n"
          ]
        }
      ],
      "source": [
        "print(\"\\n\" + \"=\"*40)\n",
        "print(\"PER-CLASS METRICS\")\n",
        "print(\"=\"*40)\n",
        "for i, class_name in enumerate(class_names):\n",
        "    class_precision = precision_recall_fscore_support(y_true, y_pred, labels=[i], average=None)[0][0]\n",
        "    class_recall = precision_recall_fscore_support(y_true, y_pred, labels=[i], average=None)[1][0]\n",
        "    class_f1 = precision_recall_fscore_support(y_true, y_pred, labels=[i], average=None)[2][0]\n",
        "    class_support = precision_recall_fscore_support(y_true, y_pred, labels=[i], average=None)[3][0]\n",
        "\n",
        "    print(f\"{class_name}:\")\n",
        "    print(f\"  Precision: {class_precision:.4f}\")\n",
        "    print(f\"  Recall: {class_recall:.4f}\")\n",
        "    print(f\"  F1-Score: {class_f1:.4f}\")\n",
        "    print(f\"  Support: {class_support}\")\n",
        "    print()\n",
        "\n",
        "#"
      ]
    },
    {
      "cell_type": "markdown",
      "id": "0ec7ac2c",
      "metadata": {
        "id": "0ec7ac2c"
      },
      "source": [
        "## Step 15: Enhanced Prediction Functions"
      ]
    },
    {
      "cell_type": "code",
      "execution_count": 32,
      "id": "0048c799",
      "metadata": {
        "id": "0048c799"
      },
      "outputs": [],
      "source": [
        "# Basic prediction function\n",
        "def predict_image(model, image_path, class_indices):\n",
        "    \"\"\"\n",
        "    Make prediction on a single image\n",
        "    \"\"\"\n",
        "    from tensorflow.keras.preprocessing import image\n",
        "\n",
        "    img = image.load_img(image_path, target_size=(224, 224))\n",
        "    img_array = image.img_to_array(img)\n",
        "    img_array = np.expand_dims(img_array, axis=0)\n",
        "    img_array /= 255.0\n",
        "\n",
        "    prediction = model.predict(img_array)\n",
        "    predicted_class = np.argmax(prediction[0])\n",
        "    confidence = np.max(prediction[0])\n",
        "\n",
        "    # Get class name\n",
        "    class_names = {v: k for k, v in class_indices.items()}\n",
        "    predicted_class_name = class_names[predicted_class]\n",
        "\n",
        "    return predicted_class_name, confidence\n",
        "\n",
        "# Enhanced prediction function with confidence assessment\n",
        "def enhanced_predict_image(model, image_path, class_indices, threshold=0.8):\n",
        "    \"\"\"\n",
        "    Enhanced prediction function with confidence threshold\n",
        "    \"\"\"\n",
        "    from tensorflow.keras.preprocessing import image\n",
        "\n",
        "    img = image.load_img(image_path, target_size=(224, 224))\n",
        "    img_array = image.img_to_array(img)\n",
        "    img_array = np.expand_dims(img_array, axis=0)\n",
        "    img_array /= 255.0\n",
        "\n",
        "    prediction = model.predict(img_array)\n",
        "    predicted_class = np.argmax(prediction[0])\n",
        "    confidence = np.max(prediction[0])\n",
        "\n",
        "    # Get class name\n",
        "    class_names = {v: k for k, v in class_indices.items()}\n",
        "    predicted_class_name = class_names[predicted_class]\n",
        "\n",
        "    # Confidence assessment\n",
        "    if confidence < threshold:\n",
        "        confidence_level = \"Low confidence - Consider manual review\"\n",
        "    else:\n",
        "        confidence_level = \"High confidence\"\n",
        "\n",
        "    return predicted_class_name, confidence, confidence_level, prediction[0]\n",
        "\n"
      ]
    },
    {
      "cell_type": "markdown",
      "id": "ca7a4068",
      "metadata": {
        "id": "ca7a4068"
      },
      "source": [
        "## Step 16: Save Results and Model"
      ]
    },
    {
      "cell_type": "code",
      "execution_count": 33,
      "id": "20c88731",
      "metadata": {
        "colab": {
          "base_uri": "https://localhost:8080/"
        },
        "id": "20c88731",
        "outputId": "2c9b1a39-53bc-4253-87eb-00ec7ab746b7"
      },
      "outputs": [
        {
          "output_type": "stream",
          "name": "stderr",
          "text": [
            "WARNING:absl:You are saving your model as an HDF5 file via `model.save()` or `keras.saving.save_model(model)`. This file format is considered legacy. We recommend using instead the native Keras format, e.g. `model.save('my_model.keras')` or `keras.saving.save_model(model, 'my_model.keras')`. \n"
          ]
        },
        {
          "output_type": "stream",
          "name": "stdout",
          "text": [
            "Evaluation results saved to 'diabetic_retinopathy_evaluation_results.csv'\n",
            "Model saved as 'diabetic_retinopathy_model.h5'\n"
          ]
        }
      ],
      "source": [
        "# Function to save comprehensive results\n",
        "def save_evaluation_results(kappa_score, qwk_score, accuracy, precision, recall, f1):\n",
        "    \"\"\"\n",
        "    Save evaluation results to a file\n",
        "    \"\"\"\n",
        "    results = {\n",
        "        'Accuracy': accuracy,\n",
        "        'Cohen_Kappa': kappa_score,\n",
        "        'Quadratic_Weighted_Kappa': qwk_score,\n",
        "        'Weighted_Precision': precision,\n",
        "        'Weighted_Recall': recall,\n",
        "        'Weighted_F1': f1,\n",
        "        'Kappa_Interpretation': interpret_kappa(kappa_score),\n",
        "        'QWK_Interpretation': interpret_kappa(qwk_score)\n",
        "    }\n",
        "\n",
        "    # Save to CSV\n",
        "    results_df = pd.DataFrame([results])\n",
        "    results_df.to_csv('diabetic_retinopathy_evaluation_results.csv', index=False)\n",
        "\n",
        "    print(\"Evaluation results saved to 'diabetic_retinopathy_evaluation_results.csv'\")\n",
        "\n",
        "    return results\n",
        "\n",
        "# Save results\n",
        "evaluation_results = save_evaluation_results(\n",
        "    kappa_score, qwk_score, accuracy, precision, recall, f1\n",
        ")\n",
        "\n",
        "# Save the model\n",
        "model.save('diabetic_retinopathy_model.h5')\n",
        "print(\"Model saved as 'diabetic_retinopathy_model.h5'\")\n",
        "\n"
      ]
    },
    {
      "cell_type": "markdown",
      "id": "f2b62f29",
      "metadata": {
        "id": "f2b62f29"
      },
      "source": [
        "## Step 17: Final Summary"
      ]
    },
    {
      "cell_type": "code",
      "execution_count": 35,
      "id": "10447878",
      "metadata": {
        "colab": {
          "base_uri": "https://localhost:8080/"
        },
        "id": "10447878",
        "outputId": "e52f1545-11d8-40bf-a8e8-e6d5bf1013de"
      },
      "outputs": [
        {
          "output_type": "stream",
          "name": "stdout",
          "text": [
            "\n",
            "============================================================\n",
            "FINAL EVALUATION SUMMARY\n",
            "============================================================\n",
            "Model Performance on Validation Set:\n",
            "  • Accuracy: 0.7647\n",
            "  • Cohen's Kappa: 0.6279 (Substantial agreement)\n",
            "  • Quadratic Weighted Kappa: 0.2524 (Fair agreement)\n",
            "  • Weighted F1-Score: 0.7208\n",
            "\n",
            "The Quadratic Weighted Kappa is particularly important for diabetic\n",
            "retinopathy classification as it accounts for the ordinal nature of\n",
            "severity levels and gives partial credit for 'near misses'.\n",
            "\n",
            "Model and results saved successfully!\n"
          ]
        }
      ],
      "source": [
        "print(\"\\n\" + \"=\"*60)\n",
        "print(\"FINAL EVALUATION SUMMARY\")\n",
        "print(\"=\"*60)\n",
        "print(f\"Model Performance on Validation Set:\")\n",
        "print(f\"  • Accuracy: {accuracy:.4f}\")\n",
        "print(f\"  • Cohen's Kappa: {kappa_score:.4f} ({interpret_kappa(kappa_score)})\")\n",
        "print(f\"  • Quadratic Weighted Kappa: {qwk_score:.4f} ({interpret_kappa(qwk_score)})\")\n",
        "print(f\"  • Weighted F1-Score: {f1:.4f}\")\n",
        "print(f\"\\nThe Quadratic Weighted Kappa is particularly important for diabetic\")\n",
        "print(f\"retinopathy classification as it accounts for the ordinal nature of\")\n",
        "print(f\"severity levels and gives partial credit for 'near misses'.\")\n",
        "print(\"\\nModel and results saved successfully!\")\n"
      ]
    },
    {
      "cell_type": "markdown",
      "id": "34048de6",
      "metadata": {
        "id": "34048de6"
      },
      "source": [
        "## Step 18: Usage Examples"
      ]
    },
    {
      "cell_type": "code",
      "execution_count": 36,
      "id": "1c9e178f",
      "metadata": {
        "colab": {
          "base_uri": "https://localhost:8080/"
        },
        "id": "1c9e178f",
        "outputId": "b4d20f07-6256-4463-c1b5-7d1f0da2a505"
      },
      "outputs": [
        {
          "output_type": "stream",
          "name": "stdout",
          "text": [
            "\n",
            "============================================================\n",
            "USAGE EXAMPLES\n",
            "============================================================\n",
            "1. Basic prediction:\n",
            "   predicted_class, confidence = predict_image(model, 'path/to/image.jpg', train_data.class_indices)\n",
            "\n",
            "2. Enhanced prediction with confidence assessment:\n",
            "   predicted_class, confidence, confidence_level, all_probs = enhanced_predict_image(model, 'path/to/image.jpg', train_data.class_indices)\n",
            "\n",
            "3. Model is saved as 'diabetic_retinopathy_model.h5'\n",
            "4. Evaluation results saved as 'diabetic_retinopathy_evaluation_results.csv'\n",
            "\n",
            "============================================================\n",
            "TRAINING AND EVALUATION COMPLETED SUCCESSFULLY!\n",
            "============================================================\n"
          ]
        }
      ],
      "source": [
        "print(\"\\n\" + \"=\"*60)\n",
        "print(\"USAGE EXAMPLES\")\n",
        "print(\"=\"*60)\n",
        "print(\"1. Basic prediction:\")\n",
        "print(\"   predicted_class, confidence = predict_image(model, 'path/to/image.jpg', train_data.class_indices)\")\n",
        "print(\"\\n2. Enhanced prediction with confidence assessment:\")\n",
        "print(\"   predicted_class, confidence, confidence_level, all_probs = enhanced_predict_image(model, 'path/to/image.jpg', train_data.class_indices)\")\n",
        "print(\"\\n3. Model is saved as 'diabetic_retinopathy_model.h5'\")\n",
        "print(\"4. Evaluation results saved as 'diabetic_retinopathy_evaluation_results.csv'\")\n",
        "\n",
        "print(\"\\n\" + \"=\"*60)\n",
        "print(\"TRAINING AND EVALUATION COMPLETED SUCCESSFULLY!\")\n",
        "print(\"=\"*60)"
      ]
    }
  ],
  "metadata": {
    "colab": {
      "provenance": [],
      "gpuType": "T4"
    },
    "language_info": {
      "name": "python"
    },
    "kernelspec": {
      "name": "python3",
      "display_name": "Python 3"
    },
    "accelerator": "GPU"
  },
  "nbformat": 4,
  "nbformat_minor": 5
}